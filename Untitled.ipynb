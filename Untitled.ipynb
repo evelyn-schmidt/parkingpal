{
 "cells": [
  {
   "cell_type": "code",
   "execution_count": 3,
   "id": "f0a6514e-0566-4681-941b-0aa2befed75b",
   "metadata": {},
   "outputs": [
    {
     "name": "stdout",
     "output_type": "stream",
     "text": [
      "{'Paris': ['Europe', 'HELLO', 'PEOPLE'], 'Athens': ['Europe', 'HELLO', 'PEOPLE'], 'Madrid': ['Europe', 'HELLO', 'PEOPLE']}\n"
     ]
    },
    {
     "ename": "TypeError",
     "evalue": "unhashable type: 'list'",
     "output_type": "error",
     "traceback": [
      "\u001b[1;31m---------------------------------------------------------------------------\u001b[0m",
      "\u001b[1;31mTypeError\u001b[0m                                 Traceback (most recent call last)",
      "Input \u001b[1;32mIn [3]\u001b[0m, in \u001b[0;36m<cell line: 17>\u001b[1;34m()\u001b[0m\n\u001b[0;32m     10\u001b[0m \u001b[38;5;28mprint\u001b[39m(my_dictionary)\n\u001b[0;32m     13\u001b[0m \u001b[38;5;66;03m# Data to be written\u001b[39;00m\n\u001b[0;32m     14\u001b[0m \n\u001b[0;32m     15\u001b[0m  \n\u001b[0;32m     16\u001b[0m \u001b[38;5;66;03m# Serializing json\u001b[39;00m\n\u001b[1;32m---> 17\u001b[0m json_object \u001b[38;5;241m=\u001b[39m json\u001b[38;5;241m.\u001b[39mdumps([{cities : continent}])\n\u001b[0;32m     19\u001b[0m \u001b[38;5;66;03m# Writing to sample.json\u001b[39;00m\n\u001b[0;32m     20\u001b[0m \u001b[38;5;28;01mwith\u001b[39;00m \u001b[38;5;28mopen\u001b[39m(\u001b[38;5;124m\"\u001b[39m\u001b[38;5;124mparking.json\u001b[39m\u001b[38;5;124m\"\u001b[39m, \u001b[38;5;124m\"\u001b[39m\u001b[38;5;124mw\u001b[39m\u001b[38;5;124m\"\u001b[39m) \u001b[38;5;28;01mas\u001b[39;00m outfile:\n",
      "\u001b[1;31mTypeError\u001b[0m: unhashable type: 'list'"
     ]
    }
   ],
   "source": [
    "import json\n",
    "#create a sequence of strings\n",
    "cities = ['Paris','Athens', 'Madrid']\n",
    "\n",
    "#create a single value\n",
    "continent = ['Europe','HELLO', 'PEOPLE']\n",
    "\n",
    "my_dictionary = dict.fromkeys(cities,continent)\n",
    "\n",
    "print(my_dictionary)\n",
    "\n",
    " \n",
    "# Data to be written\n",
    "\n",
    " \n",
    "# Serializing json\n",
    "json_object = json.dumps([{cities : continent}])\n",
    " \n",
    "# Writing to sample.json\n",
    "with open(\"parking.json\", \"w\") as outfile:\n",
    "    outfile.write(json_object)"
   ]
  },
  {
   "cell_type": "code",
   "execution_count": null,
   "id": "7f07f95a-0d13-4f09-a97f-bbd8993faf9c",
   "metadata": {},
   "outputs": [],
   "source": [
    "json.dumps(\n",
    "...     [{'country': country, 'wins': wins} for country, wins in zip(a, b)]\n",
    "... )"
   ]
  }
 ],
 "metadata": {
  "kernelspec": {
   "display_name": "Python 3 (ipykernel)",
   "language": "python",
   "name": "python3"
  },
  "language_info": {
   "codemirror_mode": {
    "name": "ipython",
    "version": 3
   },
   "file_extension": ".py",
   "mimetype": "text/x-python",
   "name": "python",
   "nbconvert_exporter": "python",
   "pygments_lexer": "ipython3",
   "version": "3.9.12"
  }
 },
 "nbformat": 4,
 "nbformat_minor": 5
}
